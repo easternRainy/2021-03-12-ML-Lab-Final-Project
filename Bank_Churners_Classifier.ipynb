{
 "cells": [
  {
   "cell_type": "markdown",
   "metadata": {},
   "source": [
    "## Machine Learning Lab Final Project \n",
    "Sicheng Zhou, University of San Francisco"
   ]
  },
  {
   "cell_type": "code",
   "execution_count": 4,
   "metadata": {},
   "outputs": [],
   "source": [
    "import numpy as np\n",
    "import pandas as pd"
   ]
  },
  {
   "cell_type": "code",
   "execution_count": 5,
   "metadata": {},
   "outputs": [],
   "source": [
    "from sklearn.compose         import ColumnTransformer\n",
    "from sklearn.preprocessing import OneHotEncoder\n",
    "from sklearn.preprocessing import QuantileTransformer"
   ]
  },
  {
   "cell_type": "code",
   "execution_count": 6,
   "metadata": {},
   "outputs": [],
   "source": [
    "import imblearn\n",
    "from imblearn.pipeline import make_pipeline\n",
    "from sklearn.pipeline import Pipeline\n",
    "\n",
    "from sklearn.model_selection import train_test_split"
   ]
  },
  {
   "cell_type": "code",
   "execution_count": 7,
   "metadata": {},
   "outputs": [],
   "source": [
    "from sklearn.linear_model import LogisticRegression\n",
    "from sklearn.linear_model import RidgeClassifier\n",
    "from sklearn.linear_model import SGDClassifier\n",
    "from sklearn.svm import SVC\n",
    "from sklearn.ensemble import RandomForestClassifier, AdaBoostClassifier, ExtraTreesClassifier"
   ]
  },
  {
   "cell_type": "code",
   "execution_count": 8,
   "metadata": {},
   "outputs": [],
   "source": [
    "from sklearn.model_selection import RandomizedSearchCV\n",
    "from sklearn.metrics import make_scorer"
   ]
  },
  {
   "cell_type": "code",
   "execution_count": 60,
   "metadata": {},
   "outputs": [],
   "source": [
    "from sklearn.metrics import balanced_accuracy_score \n",
    "from sklearn.metrics import confusion_matrix, plot_confusion_matrix\n",
    "from sklearn.metrics import plot_roc_curve\n",
    "from sklearn.metrics import f1_score, precision_score, recall_score"
   ]
  },
  {
   "cell_type": "markdown",
   "metadata": {},
   "source": [
    "## Research Question"
   ]
  },
  {
   "cell_type": "markdown",
   "metadata": {},
   "source": [
    "Could we build a model to predict the probability that a credit card customer is going to churn?"
   ]
  },
  {
   "cell_type": "markdown",
   "metadata": {},
   "source": [
    "## Dataset Description"
   ]
  },
  {
   "cell_type": "markdown",
   "metadata": {},
   "source": [
    "Here is the [dataset](https://www.kaggle.com/sakshigoyal7/credit-card-customers). This dataset contains 10,127 customers' information including age, salary, etc. There are 1627 Customers who have churned. Other 8500 customers are not churned. So this is a very unbalanced dataset. If we set a baseline model predicting every customer as not churned, there is 83.9% to be right. As as result, our model must beat that baseline.\n",
    "\n",
    "Fortunately, the data has no missing values. There are 19 feature columns and 1 target column. Among the features columns, there are 5 categorical columns: Gender, Educational_Level, Martial_Status, Income_Category, and Card_Category."
   ]
  },
  {
   "cell_type": "markdown",
   "metadata": {},
   "source": [
    "Load Data\n",
    "-----"
   ]
  },
  {
   "cell_type": "code",
   "execution_count": 10,
   "metadata": {},
   "outputs": [],
   "source": [
    "selected_cols = [\n",
    " 'Attrition_Flag',\n",
    " 'Customer_Age',\n",
    " 'Gender',\n",
    " 'Dependent_count',\n",
    " 'Education_Level',\n",
    " 'Marital_Status',\n",
    " 'Income_Category',\n",
    " 'Card_Category',\n",
    " 'Months_on_book',\n",
    " 'Total_Relationship_Count',\n",
    " 'Months_Inactive_12_mon',\n",
    " 'Contacts_Count_12_mon',\n",
    " 'Credit_Limit',\n",
    " 'Total_Revolving_Bal',\n",
    " 'Avg_Open_To_Buy',\n",
    " 'Total_Amt_Chng_Q4_Q1',\n",
    " 'Total_Trans_Amt',\n",
    " 'Total_Trans_Ct',\n",
    " 'Total_Ct_Chng_Q4_Q1',\n",
    " 'Avg_Utilization_Ratio',\n",
    "]"
   ]
  },
  {
   "cell_type": "code",
   "execution_count": 11,
   "metadata": {},
   "outputs": [],
   "source": [
    "df = pd.read_csv(\"data/BankChurners.csv\")\n",
    "df = df[selected_cols]"
   ]
  },
  {
   "cell_type": "code",
   "execution_count": 12,
   "metadata": {},
   "outputs": [
    {
     "data": {
      "text/html": [
       "<div>\n",
       "<style scoped>\n",
       "    .dataframe tbody tr th:only-of-type {\n",
       "        vertical-align: middle;\n",
       "    }\n",
       "\n",
       "    .dataframe tbody tr th {\n",
       "        vertical-align: top;\n",
       "    }\n",
       "\n",
       "    .dataframe thead th {\n",
       "        text-align: right;\n",
       "    }\n",
       "</style>\n",
       "<table border=\"1\" class=\"dataframe\">\n",
       "  <thead>\n",
       "    <tr style=\"text-align: right;\">\n",
       "      <th></th>\n",
       "      <th>0</th>\n",
       "      <th>1</th>\n",
       "      <th>2</th>\n",
       "      <th>3</th>\n",
       "      <th>4</th>\n",
       "    </tr>\n",
       "  </thead>\n",
       "  <tbody>\n",
       "    <tr>\n",
       "      <th>Attrition_Flag</th>\n",
       "      <td>Existing Customer</td>\n",
       "      <td>Existing Customer</td>\n",
       "      <td>Existing Customer</td>\n",
       "      <td>Existing Customer</td>\n",
       "      <td>Existing Customer</td>\n",
       "    </tr>\n",
       "    <tr>\n",
       "      <th>Customer_Age</th>\n",
       "      <td>45</td>\n",
       "      <td>49</td>\n",
       "      <td>51</td>\n",
       "      <td>40</td>\n",
       "      <td>40</td>\n",
       "    </tr>\n",
       "    <tr>\n",
       "      <th>Gender</th>\n",
       "      <td>M</td>\n",
       "      <td>F</td>\n",
       "      <td>M</td>\n",
       "      <td>F</td>\n",
       "      <td>M</td>\n",
       "    </tr>\n",
       "    <tr>\n",
       "      <th>Dependent_count</th>\n",
       "      <td>3</td>\n",
       "      <td>5</td>\n",
       "      <td>3</td>\n",
       "      <td>4</td>\n",
       "      <td>3</td>\n",
       "    </tr>\n",
       "    <tr>\n",
       "      <th>Education_Level</th>\n",
       "      <td>High School</td>\n",
       "      <td>Graduate</td>\n",
       "      <td>Graduate</td>\n",
       "      <td>High School</td>\n",
       "      <td>Uneducated</td>\n",
       "    </tr>\n",
       "    <tr>\n",
       "      <th>Marital_Status</th>\n",
       "      <td>Married</td>\n",
       "      <td>Single</td>\n",
       "      <td>Married</td>\n",
       "      <td>Unknown</td>\n",
       "      <td>Married</td>\n",
       "    </tr>\n",
       "    <tr>\n",
       "      <th>Income_Category</th>\n",
       "      <td>$60K - $80K</td>\n",
       "      <td>Less than $40K</td>\n",
       "      <td>$80K - $120K</td>\n",
       "      <td>Less than $40K</td>\n",
       "      <td>$60K - $80K</td>\n",
       "    </tr>\n",
       "    <tr>\n",
       "      <th>Card_Category</th>\n",
       "      <td>Blue</td>\n",
       "      <td>Blue</td>\n",
       "      <td>Blue</td>\n",
       "      <td>Blue</td>\n",
       "      <td>Blue</td>\n",
       "    </tr>\n",
       "    <tr>\n",
       "      <th>Months_on_book</th>\n",
       "      <td>39</td>\n",
       "      <td>44</td>\n",
       "      <td>36</td>\n",
       "      <td>34</td>\n",
       "      <td>21</td>\n",
       "    </tr>\n",
       "    <tr>\n",
       "      <th>Total_Relationship_Count</th>\n",
       "      <td>5</td>\n",
       "      <td>6</td>\n",
       "      <td>4</td>\n",
       "      <td>3</td>\n",
       "      <td>5</td>\n",
       "    </tr>\n",
       "    <tr>\n",
       "      <th>Months_Inactive_12_mon</th>\n",
       "      <td>1</td>\n",
       "      <td>1</td>\n",
       "      <td>1</td>\n",
       "      <td>4</td>\n",
       "      <td>1</td>\n",
       "    </tr>\n",
       "    <tr>\n",
       "      <th>Contacts_Count_12_mon</th>\n",
       "      <td>3</td>\n",
       "      <td>2</td>\n",
       "      <td>0</td>\n",
       "      <td>1</td>\n",
       "      <td>0</td>\n",
       "    </tr>\n",
       "    <tr>\n",
       "      <th>Credit_Limit</th>\n",
       "      <td>12691.0</td>\n",
       "      <td>8256.0</td>\n",
       "      <td>3418.0</td>\n",
       "      <td>3313.0</td>\n",
       "      <td>4716.0</td>\n",
       "    </tr>\n",
       "    <tr>\n",
       "      <th>Total_Revolving_Bal</th>\n",
       "      <td>777</td>\n",
       "      <td>864</td>\n",
       "      <td>0</td>\n",
       "      <td>2517</td>\n",
       "      <td>0</td>\n",
       "    </tr>\n",
       "    <tr>\n",
       "      <th>Avg_Open_To_Buy</th>\n",
       "      <td>11914.0</td>\n",
       "      <td>7392.0</td>\n",
       "      <td>3418.0</td>\n",
       "      <td>796.0</td>\n",
       "      <td>4716.0</td>\n",
       "    </tr>\n",
       "    <tr>\n",
       "      <th>Total_Amt_Chng_Q4_Q1</th>\n",
       "      <td>1.335</td>\n",
       "      <td>1.541</td>\n",
       "      <td>2.594</td>\n",
       "      <td>1.405</td>\n",
       "      <td>2.175</td>\n",
       "    </tr>\n",
       "    <tr>\n",
       "      <th>Total_Trans_Amt</th>\n",
       "      <td>1144</td>\n",
       "      <td>1291</td>\n",
       "      <td>1887</td>\n",
       "      <td>1171</td>\n",
       "      <td>816</td>\n",
       "    </tr>\n",
       "    <tr>\n",
       "      <th>Total_Trans_Ct</th>\n",
       "      <td>42</td>\n",
       "      <td>33</td>\n",
       "      <td>20</td>\n",
       "      <td>20</td>\n",
       "      <td>28</td>\n",
       "    </tr>\n",
       "    <tr>\n",
       "      <th>Total_Ct_Chng_Q4_Q1</th>\n",
       "      <td>1.625</td>\n",
       "      <td>3.714</td>\n",
       "      <td>2.333</td>\n",
       "      <td>2.333</td>\n",
       "      <td>2.5</td>\n",
       "    </tr>\n",
       "    <tr>\n",
       "      <th>Avg_Utilization_Ratio</th>\n",
       "      <td>0.061</td>\n",
       "      <td>0.105</td>\n",
       "      <td>0.0</td>\n",
       "      <td>0.76</td>\n",
       "      <td>0.0</td>\n",
       "    </tr>\n",
       "  </tbody>\n",
       "</table>\n",
       "</div>"
      ],
      "text/plain": [
       "                                          0                  1  \\\n",
       "Attrition_Flag            Existing Customer  Existing Customer   \n",
       "Customer_Age                             45                 49   \n",
       "Gender                                    M                  F   \n",
       "Dependent_count                           3                  5   \n",
       "Education_Level                 High School           Graduate   \n",
       "Marital_Status                      Married             Single   \n",
       "Income_Category                 $60K - $80K     Less than $40K   \n",
       "Card_Category                          Blue               Blue   \n",
       "Months_on_book                           39                 44   \n",
       "Total_Relationship_Count                  5                  6   \n",
       "Months_Inactive_12_mon                    1                  1   \n",
       "Contacts_Count_12_mon                     3                  2   \n",
       "Credit_Limit                        12691.0             8256.0   \n",
       "Total_Revolving_Bal                     777                864   \n",
       "Avg_Open_To_Buy                     11914.0             7392.0   \n",
       "Total_Amt_Chng_Q4_Q1                  1.335              1.541   \n",
       "Total_Trans_Amt                        1144               1291   \n",
       "Total_Trans_Ct                           42                 33   \n",
       "Total_Ct_Chng_Q4_Q1                   1.625              3.714   \n",
       "Avg_Utilization_Ratio                 0.061              0.105   \n",
       "\n",
       "                                          2                  3  \\\n",
       "Attrition_Flag            Existing Customer  Existing Customer   \n",
       "Customer_Age                             51                 40   \n",
       "Gender                                    M                  F   \n",
       "Dependent_count                           3                  4   \n",
       "Education_Level                    Graduate        High School   \n",
       "Marital_Status                      Married            Unknown   \n",
       "Income_Category                $80K - $120K     Less than $40K   \n",
       "Card_Category                          Blue               Blue   \n",
       "Months_on_book                           36                 34   \n",
       "Total_Relationship_Count                  4                  3   \n",
       "Months_Inactive_12_mon                    1                  4   \n",
       "Contacts_Count_12_mon                     0                  1   \n",
       "Credit_Limit                         3418.0             3313.0   \n",
       "Total_Revolving_Bal                       0               2517   \n",
       "Avg_Open_To_Buy                      3418.0              796.0   \n",
       "Total_Amt_Chng_Q4_Q1                  2.594              1.405   \n",
       "Total_Trans_Amt                        1887               1171   \n",
       "Total_Trans_Ct                           20                 20   \n",
       "Total_Ct_Chng_Q4_Q1                   2.333              2.333   \n",
       "Avg_Utilization_Ratio                   0.0               0.76   \n",
       "\n",
       "                                          4  \n",
       "Attrition_Flag            Existing Customer  \n",
       "Customer_Age                             40  \n",
       "Gender                                    M  \n",
       "Dependent_count                           3  \n",
       "Education_Level                  Uneducated  \n",
       "Marital_Status                      Married  \n",
       "Income_Category                 $60K - $80K  \n",
       "Card_Category                          Blue  \n",
       "Months_on_book                           21  \n",
       "Total_Relationship_Count                  5  \n",
       "Months_Inactive_12_mon                    1  \n",
       "Contacts_Count_12_mon                     0  \n",
       "Credit_Limit                         4716.0  \n",
       "Total_Revolving_Bal                       0  \n",
       "Avg_Open_To_Buy                      4716.0  \n",
       "Total_Amt_Chng_Q4_Q1                  2.175  \n",
       "Total_Trans_Amt                         816  \n",
       "Total_Trans_Ct                           28  \n",
       "Total_Ct_Chng_Q4_Q1                     2.5  \n",
       "Avg_Utilization_Ratio                   0.0  "
      ]
     },
     "execution_count": 12,
     "metadata": {},
     "output_type": "execute_result"
    }
   ],
   "source": [
    "df.head().T"
   ]
  },
  {
   "cell_type": "markdown",
   "metadata": {},
   "source": [
    "## Target Engineering\n",
    "The target column we want to predict is \"Attrition_Flag\", which is a categorical variable with options \"Existing Customer\" and \"Attritied Customer\". We encode \"Existing Customer\" as 0 and \"Attrited Customer\" as 1. Then save this column to df_y, leaving other columns as df_X, which will be pre-processed through a Pipeline."
   ]
  },
  {
   "cell_type": "code",
   "execution_count": 13,
   "metadata": {},
   "outputs": [],
   "source": [
    "df['Y'] = df['Attrition_Flag'].apply(lambda x: int(x==\"Attrited Customer\"))"
   ]
  },
  {
   "cell_type": "code",
   "execution_count": 14,
   "metadata": {},
   "outputs": [],
   "source": [
    "df_X = df.drop(columns=[\"Attrition_Flag\", \"Y\"])\n",
    "df_y = df[['Y']]"
   ]
  },
  {
   "cell_type": "code",
   "execution_count": 15,
   "metadata": {},
   "outputs": [
    {
     "data": {
      "text/html": [
       "<div>\n",
       "<style scoped>\n",
       "    .dataframe tbody tr th:only-of-type {\n",
       "        vertical-align: middle;\n",
       "    }\n",
       "\n",
       "    .dataframe tbody tr th {\n",
       "        vertical-align: top;\n",
       "    }\n",
       "\n",
       "    .dataframe thead th {\n",
       "        text-align: right;\n",
       "    }\n",
       "</style>\n",
       "<table border=\"1\" class=\"dataframe\">\n",
       "  <thead>\n",
       "    <tr style=\"text-align: right;\">\n",
       "      <th></th>\n",
       "      <th>0</th>\n",
       "      <th>1</th>\n",
       "      <th>2</th>\n",
       "      <th>3</th>\n",
       "      <th>4</th>\n",
       "    </tr>\n",
       "  </thead>\n",
       "  <tbody>\n",
       "    <tr>\n",
       "      <th>Customer_Age</th>\n",
       "      <td>45</td>\n",
       "      <td>49</td>\n",
       "      <td>51</td>\n",
       "      <td>40</td>\n",
       "      <td>40</td>\n",
       "    </tr>\n",
       "    <tr>\n",
       "      <th>Gender</th>\n",
       "      <td>M</td>\n",
       "      <td>F</td>\n",
       "      <td>M</td>\n",
       "      <td>F</td>\n",
       "      <td>M</td>\n",
       "    </tr>\n",
       "    <tr>\n",
       "      <th>Dependent_count</th>\n",
       "      <td>3</td>\n",
       "      <td>5</td>\n",
       "      <td>3</td>\n",
       "      <td>4</td>\n",
       "      <td>3</td>\n",
       "    </tr>\n",
       "    <tr>\n",
       "      <th>Education_Level</th>\n",
       "      <td>High School</td>\n",
       "      <td>Graduate</td>\n",
       "      <td>Graduate</td>\n",
       "      <td>High School</td>\n",
       "      <td>Uneducated</td>\n",
       "    </tr>\n",
       "    <tr>\n",
       "      <th>Marital_Status</th>\n",
       "      <td>Married</td>\n",
       "      <td>Single</td>\n",
       "      <td>Married</td>\n",
       "      <td>Unknown</td>\n",
       "      <td>Married</td>\n",
       "    </tr>\n",
       "    <tr>\n",
       "      <th>Income_Category</th>\n",
       "      <td>$60K - $80K</td>\n",
       "      <td>Less than $40K</td>\n",
       "      <td>$80K - $120K</td>\n",
       "      <td>Less than $40K</td>\n",
       "      <td>$60K - $80K</td>\n",
       "    </tr>\n",
       "    <tr>\n",
       "      <th>Card_Category</th>\n",
       "      <td>Blue</td>\n",
       "      <td>Blue</td>\n",
       "      <td>Blue</td>\n",
       "      <td>Blue</td>\n",
       "      <td>Blue</td>\n",
       "    </tr>\n",
       "    <tr>\n",
       "      <th>Months_on_book</th>\n",
       "      <td>39</td>\n",
       "      <td>44</td>\n",
       "      <td>36</td>\n",
       "      <td>34</td>\n",
       "      <td>21</td>\n",
       "    </tr>\n",
       "    <tr>\n",
       "      <th>Total_Relationship_Count</th>\n",
       "      <td>5</td>\n",
       "      <td>6</td>\n",
       "      <td>4</td>\n",
       "      <td>3</td>\n",
       "      <td>5</td>\n",
       "    </tr>\n",
       "    <tr>\n",
       "      <th>Months_Inactive_12_mon</th>\n",
       "      <td>1</td>\n",
       "      <td>1</td>\n",
       "      <td>1</td>\n",
       "      <td>4</td>\n",
       "      <td>1</td>\n",
       "    </tr>\n",
       "    <tr>\n",
       "      <th>Contacts_Count_12_mon</th>\n",
       "      <td>3</td>\n",
       "      <td>2</td>\n",
       "      <td>0</td>\n",
       "      <td>1</td>\n",
       "      <td>0</td>\n",
       "    </tr>\n",
       "    <tr>\n",
       "      <th>Credit_Limit</th>\n",
       "      <td>12691.0</td>\n",
       "      <td>8256.0</td>\n",
       "      <td>3418.0</td>\n",
       "      <td>3313.0</td>\n",
       "      <td>4716.0</td>\n",
       "    </tr>\n",
       "    <tr>\n",
       "      <th>Total_Revolving_Bal</th>\n",
       "      <td>777</td>\n",
       "      <td>864</td>\n",
       "      <td>0</td>\n",
       "      <td>2517</td>\n",
       "      <td>0</td>\n",
       "    </tr>\n",
       "    <tr>\n",
       "      <th>Avg_Open_To_Buy</th>\n",
       "      <td>11914.0</td>\n",
       "      <td>7392.0</td>\n",
       "      <td>3418.0</td>\n",
       "      <td>796.0</td>\n",
       "      <td>4716.0</td>\n",
       "    </tr>\n",
       "    <tr>\n",
       "      <th>Total_Amt_Chng_Q4_Q1</th>\n",
       "      <td>1.335</td>\n",
       "      <td>1.541</td>\n",
       "      <td>2.594</td>\n",
       "      <td>1.405</td>\n",
       "      <td>2.175</td>\n",
       "    </tr>\n",
       "    <tr>\n",
       "      <th>Total_Trans_Amt</th>\n",
       "      <td>1144</td>\n",
       "      <td>1291</td>\n",
       "      <td>1887</td>\n",
       "      <td>1171</td>\n",
       "      <td>816</td>\n",
       "    </tr>\n",
       "    <tr>\n",
       "      <th>Total_Trans_Ct</th>\n",
       "      <td>42</td>\n",
       "      <td>33</td>\n",
       "      <td>20</td>\n",
       "      <td>20</td>\n",
       "      <td>28</td>\n",
       "    </tr>\n",
       "    <tr>\n",
       "      <th>Total_Ct_Chng_Q4_Q1</th>\n",
       "      <td>1.625</td>\n",
       "      <td>3.714</td>\n",
       "      <td>2.333</td>\n",
       "      <td>2.333</td>\n",
       "      <td>2.5</td>\n",
       "    </tr>\n",
       "    <tr>\n",
       "      <th>Avg_Utilization_Ratio</th>\n",
       "      <td>0.061</td>\n",
       "      <td>0.105</td>\n",
       "      <td>0.0</td>\n",
       "      <td>0.76</td>\n",
       "      <td>0.0</td>\n",
       "    </tr>\n",
       "  </tbody>\n",
       "</table>\n",
       "</div>"
      ],
      "text/plain": [
       "                                    0               1             2  \\\n",
       "Customer_Age                       45              49            51   \n",
       "Gender                              M               F             M   \n",
       "Dependent_count                     3               5             3   \n",
       "Education_Level           High School        Graduate      Graduate   \n",
       "Marital_Status                Married          Single       Married   \n",
       "Income_Category           $60K - $80K  Less than $40K  $80K - $120K   \n",
       "Card_Category                    Blue            Blue          Blue   \n",
       "Months_on_book                     39              44            36   \n",
       "Total_Relationship_Count            5               6             4   \n",
       "Months_Inactive_12_mon              1               1             1   \n",
       "Contacts_Count_12_mon               3               2             0   \n",
       "Credit_Limit                  12691.0          8256.0        3418.0   \n",
       "Total_Revolving_Bal               777             864             0   \n",
       "Avg_Open_To_Buy               11914.0          7392.0        3418.0   \n",
       "Total_Amt_Chng_Q4_Q1            1.335           1.541         2.594   \n",
       "Total_Trans_Amt                  1144            1291          1887   \n",
       "Total_Trans_Ct                     42              33            20   \n",
       "Total_Ct_Chng_Q4_Q1             1.625           3.714         2.333   \n",
       "Avg_Utilization_Ratio           0.061           0.105           0.0   \n",
       "\n",
       "                                       3            4  \n",
       "Customer_Age                          40           40  \n",
       "Gender                                 F            M  \n",
       "Dependent_count                        4            3  \n",
       "Education_Level              High School   Uneducated  \n",
       "Marital_Status                   Unknown      Married  \n",
       "Income_Category           Less than $40K  $60K - $80K  \n",
       "Card_Category                       Blue         Blue  \n",
       "Months_on_book                        34           21  \n",
       "Total_Relationship_Count               3            5  \n",
       "Months_Inactive_12_mon                 4            1  \n",
       "Contacts_Count_12_mon                  1            0  \n",
       "Credit_Limit                      3313.0       4716.0  \n",
       "Total_Revolving_Bal                 2517            0  \n",
       "Avg_Open_To_Buy                    796.0       4716.0  \n",
       "Total_Amt_Chng_Q4_Q1               1.405        2.175  \n",
       "Total_Trans_Amt                     1171          816  \n",
       "Total_Trans_Ct                        20           28  \n",
       "Total_Ct_Chng_Q4_Q1                2.333          2.5  \n",
       "Avg_Utilization_Ratio               0.76          0.0  "
      ]
     },
     "execution_count": 15,
     "metadata": {},
     "output_type": "execute_result"
    }
   ],
   "source": [
    "df_X.head().T"
   ]
  },
  {
   "cell_type": "code",
   "execution_count": 16,
   "metadata": {},
   "outputs": [
    {
     "data": {
      "text/html": [
       "<div>\n",
       "<style scoped>\n",
       "    .dataframe tbody tr th:only-of-type {\n",
       "        vertical-align: middle;\n",
       "    }\n",
       "\n",
       "    .dataframe tbody tr th {\n",
       "        vertical-align: top;\n",
       "    }\n",
       "\n",
       "    .dataframe thead th {\n",
       "        text-align: right;\n",
       "    }\n",
       "</style>\n",
       "<table border=\"1\" class=\"dataframe\">\n",
       "  <thead>\n",
       "    <tr style=\"text-align: right;\">\n",
       "      <th></th>\n",
       "      <th>Y</th>\n",
       "    </tr>\n",
       "  </thead>\n",
       "  <tbody>\n",
       "    <tr>\n",
       "      <th>0</th>\n",
       "      <td>0</td>\n",
       "    </tr>\n",
       "    <tr>\n",
       "      <th>1</th>\n",
       "      <td>0</td>\n",
       "    </tr>\n",
       "    <tr>\n",
       "      <th>2</th>\n",
       "      <td>0</td>\n",
       "    </tr>\n",
       "    <tr>\n",
       "      <th>3</th>\n",
       "      <td>0</td>\n",
       "    </tr>\n",
       "    <tr>\n",
       "      <th>4</th>\n",
       "      <td>0</td>\n",
       "    </tr>\n",
       "  </tbody>\n",
       "</table>\n",
       "</div>"
      ],
      "text/plain": [
       "   Y\n",
       "0  0\n",
       "1  0\n",
       "2  0\n",
       "3  0\n",
       "4  0"
      ]
     },
     "execution_count": 16,
     "metadata": {},
     "output_type": "execute_result"
    }
   ],
   "source": [
    "df_y.head()"
   ]
  },
  {
   "cell_type": "markdown",
   "metadata": {},
   "source": [
    "## Feature Engineering"
   ]
  },
  {
   "cell_type": "markdown",
   "metadata": {},
   "source": [
    "We use two Pipelines to process categorical variables and numeric variables. There are five categorical variables: Gender, Education_Level, Marital_Status, Income_Category, Card_Category. Note that Income_Category is ordinal. However, we still treat it as categorical variable. We transform categorical variables using OneHotEncoder, dropping one of the categories per feature to avoid collinearity. We transform numerical variables to normaly distributed using QuantileTransformer because converting a numerical column to normally distribution could achieve better score."
   ]
  },
  {
   "cell_type": "code",
   "execution_count": 17,
   "metadata": {},
   "outputs": [],
   "source": [
    "cat_cols = (df_X.dtypes == object)\n",
    "num_cols = ~cat_cols"
   ]
  },
  {
   "cell_type": "code",
   "execution_count": 18,
   "metadata": {},
   "outputs": [],
   "source": [
    "cat_pipe = Pipeline([\n",
    "    ('ohe', OneHotEncoder(handle_unknown='error', drop='first'))\n",
    "])"
   ]
  },
  {
   "cell_type": "code",
   "execution_count": 19,
   "metadata": {},
   "outputs": [],
   "source": [
    "num_pipe = Pipeline([\n",
    "    ('qt', QuantileTransformer(output_distribution='normal'))\n",
    "])"
   ]
  },
  {
   "cell_type": "code",
   "execution_count": 20,
   "metadata": {},
   "outputs": [],
   "source": [
    "pre_pipe = ColumnTransformer([\n",
    "    ('categorical', cat_pipe, cat_cols),\n",
    "    ('numerical',   num_pipe, num_cols)\n",
    "])"
   ]
  },
  {
   "cell_type": "markdown",
   "metadata": {},
   "source": [
    "## Fit a base model"
   ]
  },
  {
   "cell_type": "markdown",
   "metadata": {},
   "source": [
    "We already set a baseline model predicting every customer as not churned, there is 83.9% to be right. However, this dataset is hight unbalanced. We want to fit another baseline model without balancing the data."
   ]
  },
  {
   "cell_type": "code",
   "execution_count": 21,
   "metadata": {},
   "outputs": [],
   "source": [
    "X_train, X_test, y_train, y_test = train_test_split(\n",
    "    df_X, \n",
    "    df_y, \n",
    "    test_size=0.2, \n",
    "    shuffle=True,\n",
    "    stratify=df_y\n",
    ")"
   ]
  },
  {
   "cell_type": "code",
   "execution_count": 22,
   "metadata": {},
   "outputs": [],
   "source": [
    "base_pipe = make_pipeline(\n",
    "    pre_pipe,\n",
    "    LogisticRegression(\n",
    "        solver='liblinear',\n",
    "        class_weight=None\n",
    "    )\n",
    ")"
   ]
  },
  {
   "cell_type": "code",
   "execution_count": 23,
   "metadata": {},
   "outputs": [
    {
     "data": {
      "text/plain": [
       "Pipeline(steps=[('columntransformer',\n",
       "                 ColumnTransformer(transformers=[('categorical',\n",
       "                                                  Pipeline(steps=[('ohe',\n",
       "                                                                   OneHotEncoder(drop='first'))]),\n",
       "                                                  Customer_Age                False\n",
       "Gender                       True\n",
       "Dependent_count             False\n",
       "Education_Level              True\n",
       "Marital_Status               True\n",
       "Income_Category              True\n",
       "Card_Category                True\n",
       "Months_on_book              False\n",
       "Total_Relationship_Count    False\n",
       "Months_Inactive_12_mon      False\n",
       "Contacts_Count_12...\n",
       "Card_Category               False\n",
       "Months_on_book               True\n",
       "Total_Relationship_Count     True\n",
       "Months_Inactive_12_mon       True\n",
       "Contacts_Count_12_mon        True\n",
       "Credit_Limit                 True\n",
       "Total_Revolving_Bal          True\n",
       "Avg_Open_To_Buy              True\n",
       "Total_Amt_Chng_Q4_Q1         True\n",
       "Total_Trans_Amt              True\n",
       "Total_Trans_Ct               True\n",
       "Total_Ct_Chng_Q4_Q1          True\n",
       "Avg_Utilization_Ratio        True\n",
       "dtype: bool)])),\n",
       "                ('logisticregression', LogisticRegression(solver='liblinear'))])"
      ]
     },
     "execution_count": 23,
     "metadata": {},
     "output_type": "execute_result"
    }
   ],
   "source": [
    "base_pipe.fit(X_train.values, y_train[\"Y\"].values)"
   ]
  },
  {
   "cell_type": "code",
   "execution_count": 24,
   "metadata": {},
   "outputs": [],
   "source": [
    "base_pred = base_pipe.predict(X_test.values)"
   ]
  },
  {
   "cell_type": "code",
   "execution_count": 25,
   "metadata": {},
   "outputs": [
    {
     "data": {
      "text/plain": [
       "0.7888111065888843"
      ]
     },
     "execution_count": 25,
     "metadata": {},
     "output_type": "execute_result"
    }
   ],
   "source": [
    "base_accuracy = balanced_accuracy_score(y_test.values, base_pred)\n",
    "base_accuracy"
   ]
  },
  {
   "cell_type": "markdown",
   "metadata": {},
   "source": [
    "Since we used balanced_accuracy_score for the classifier, we must also calculate a balanced accuracy score for the first baseline model predicting everything as \"not churned\", that is, 0. According to sklearn official documentation, \n",
    ">The balanced accuracy in binary and multiclass classification problems to deal with imbalanced datasets. It is defined as the average of recall obtained on each class.\n",
    ">"
   ]
  },
  {
   "cell_type": "code",
   "execution_count": 26,
   "metadata": {},
   "outputs": [],
   "source": [
    "zeros_pred = np.zeros(len(y_test))"
   ]
  },
  {
   "cell_type": "code",
   "execution_count": 27,
   "metadata": {},
   "outputs": [
    {
     "data": {
      "text/plain": [
       "0.5"
      ]
     },
     "execution_count": 27,
     "metadata": {},
     "output_type": "execute_result"
    }
   ],
   "source": [
    "zeros_accuracy = balanced_accuracy_score(y_test.values, zeros_pred)\n",
    "zeros_accuracy"
   ]
  },
  {
   "cell_type": "markdown",
   "metadata": {},
   "source": [
    "So our baseline Logistic Classifier performs better than simply predicting everything to be 0. Next, we will deal with the imbalancing dataset to see if we could get better model"
   ]
  },
  {
   "cell_type": "markdown",
   "metadata": {},
   "source": [
    "## Methods to deal with imbalanced data"
   ]
  },
  {
   "cell_type": "markdown",
   "metadata": {},
   "source": [
    "- Sometimes we could simply ignore class imbalances because most real-world data is imbalanced. Small differences at larget scale might not effect business outcomes. If the imbalance is not serious, we could ignore it. However, in this project, the imbalance of data could not be ignored.\n",
    "- We could get more data for the minority group. \n",
    "- The most practical way in this project is to resample the data. For example, over-sample minority group, under-sample majority group, representative sampling of both groups and synthetically generate samples from minority class(SMOTE). In this project, we use SMOTE. SMOTE synthesises new minority instances between existing minority instances. In the intuitive picture below, SMOTE synthetic minority instances somewhere on these lines.\n",
    "- We should pick an appropriate evaluation metrics, especially avoiding accuracy. We could apply balanced_accuracy_score in this project.\n",
    "- Use robust algorithms. For example, Support Vector Machine, which finds a hyperplan that maximizes the margin. We only needs very few \"support vectors\" thus minimizing the impact of imbalanced data."
   ]
  },
  {
   "cell_type": "markdown",
   "metadata": {},
   "source": [
    "![](https://raw.githubusercontent.com/rikunert/SMOTE_visualisation/master/SMOTE_R_visualisation_2.png)\n",
    "\n",
    "image from: https://rikunert.com/SMOTE_explained"
   ]
  },
  {
   "cell_type": "markdown",
   "metadata": {},
   "source": [
    "## Models"
   ]
  },
  {
   "cell_type": "code",
   "execution_count": 28,
   "metadata": {},
   "outputs": [],
   "source": [
    "models = [\n",
    "    LogisticRegression(),\n",
    "    RidgeClassifier(),\n",
    "    SGDClassifier(),\n",
    "    SVC(),\n",
    "    RandomForestClassifier(),\n",
    "    AdaBoostClassifier(),\n",
    "    ExtraTreesClassifier()\n",
    "]"
   ]
  },
  {
   "cell_type": "code",
   "execution_count": 29,
   "metadata": {},
   "outputs": [],
   "source": [
    "def pipe_4_model(model):\n",
    "    pipe_4_model = make_pipeline(   \n",
    "        pre_pipe,\n",
    "        imblearn.over_sampling.SMOTE(k_neighbors=50),\n",
    "        model\n",
    "    )\n",
    "    return pipe_4_model"
   ]
  },
  {
   "cell_type": "code",
   "execution_count": 30,
   "metadata": {},
   "outputs": [],
   "source": [
    "pipes = [pipe_4_model(model) for model in models]"
   ]
  },
  {
   "cell_type": "markdown",
   "metadata": {},
   "source": [
    "- We could use pipes[index].get_params().keys() to get model names"
   ]
  },
  {
   "cell_type": "markdown",
   "metadata": {},
   "source": [
    "## Model Hyper Parameters"
   ]
  },
  {
   "cell_type": "code",
   "execution_count": 31,
   "metadata": {},
   "outputs": [],
   "source": [
    "# for LogisticRegression model, we set l1_ratio to find a mid-point\n",
    "# between l1 and l2 regularization\n",
    "lr_params = dict(\n",
    "    logisticregression__penalty=['elasticnet'],\n",
    "    logisticregression__solver=['saga'],\n",
    "    logisticregression__l1_ratio=[0, 0,1, 0.3, 0.5, 0.7, 0.9, 1]\n",
    ")"
   ]
  },
  {
   "cell_type": "code",
   "execution_count": 32,
   "metadata": {},
   "outputs": [],
   "source": [
    "# for RidgeClassifier, alpha is important for regularization\n",
    "rc_params = dict(\n",
    "    ridgeclassifier__alpha=[0.1, 1, 10, 100, 1000]\n",
    ")"
   ]
  },
  {
   "cell_type": "code",
   "execution_count": 33,
   "metadata": {},
   "outputs": [],
   "source": [
    "# for SGDClassifier, l1_ratio still controls the balance\n",
    "# between l1 and l2 regularization\n",
    "# We should set early stoppint as True to prevent overfitting\n",
    "sgd_params = dict(\n",
    "    \n",
    "    sgdclassifier__l1_ratio=[0, 0,1, 0.3, 0.5, 0.7, 0.9, 1],\n",
    "    sgdclassifier__early_stopping=[True],\n",
    ")"
   ]
  },
  {
   "cell_type": "code",
   "execution_count": 34,
   "metadata": {},
   "outputs": [],
   "source": [
    "# for Support Vector Machine, the kernel is important\n",
    "# different kernel defines different method to transform data\n",
    "svc_params = dict(\n",
    "    svc__C=[0.1, 0.3, 0.5, 1, 10, 100],\n",
    "    svc__kernel=['linear', 'poly', 'rbf', 'sigmoid'],\n",
    "    svc__gamma=[0.1, 1, 10, 100, 1000]\n",
    ")"
   ]
  },
  {
   "cell_type": "code",
   "execution_count": 35,
   "metadata": {},
   "outputs": [],
   "source": [
    "# for RandomForestClassifier, n_estimators is the number of decision trees\n",
    "# if n_estimator is high, it tends to overfitting\n",
    "# max_depth is the max depth of each tree, if high, it tends to overfitting\n",
    "# max_feature is the max features each tree use. We do not use all the features \n",
    "# to prevent overfitting\n",
    "rfc_params = dict(\n",
    "    randomforestclassifier__n_estimators=[70, 80, 90, 100, 110, 120, 130, 140],\n",
    "    randomforestclassifier__max_depth=[8, 20, 22, 30, 50],\n",
    "    randomforestclassifier__max_features=[18, 17, 15]\n",
    ")"
   ]
  },
  {
   "cell_type": "code",
   "execution_count": 36,
   "metadata": {},
   "outputs": [],
   "source": [
    "# for AdaBoostClassifier, n_estimators is still the number of estimators\n",
    "abc_params = dict(\n",
    "    adaboostclassifier__n_estimators=[10, 20, 30, 40, 50, 70, 100],\n",
    ")"
   ]
  },
  {
   "cell_type": "code",
   "execution_count": 37,
   "metadata": {},
   "outputs": [],
   "source": [
    "# for ExtraTreesClassifier, n_estimators is still the number of estimators\n",
    "# n_depth is the maximum depth of the tree\n",
    "et_params = dict(\n",
    "    extratreesclassifier__n_estimators = [5, 10, 50, 100, 200, 300, 400, 500],\n",
    "    extratreesclassifier__max_depth = [range(2,30), None],\n",
    "    extratreesclassifier__min_samples_split = range(1,10),\n",
    "    extratreesclassifier__min_samples_leaf = range(1,10),\n",
    "    extratreesclassifier__max_features = ['auto', 'sqrt', 'log2'],\n",
    "    extratreesclassifier__warm_start = [True, False],   \n",
    ")"
   ]
  },
  {
   "cell_type": "code",
   "execution_count": 38,
   "metadata": {},
   "outputs": [],
   "source": [
    "params = [\n",
    "    lr_params,\n",
    "    rc_params,\n",
    "    sgd_params,\n",
    "    svc_params,\n",
    "    rfc_params,\n",
    "    abc_params,\n",
    "    et_params\n",
    "]"
   ]
  },
  {
   "cell_type": "markdown",
   "metadata": {},
   "source": [
    "## Search Parameter Space"
   ]
  },
  {
   "cell_type": "markdown",
   "metadata": {},
   "source": [
    "- We use Randomized Search strategy to select the best model. Usually this strategy is faster than Grid Search. \n",
    "- We use cross validation with 3 folds. \n",
    "- We use different metrics: balanced_accuracy_score and f1 score. Both of them are suitable in a unbalanced dataset.\n",
    "- balanced_accuracy_score gives the accuracy.\n",
    "- f1 score gives the harmonic average of precision and recall. "
   ]
  },
  {
   "cell_type": "code",
   "execution_count": 39,
   "metadata": {},
   "outputs": [],
   "source": [
    "balanced_scorer = make_scorer(balanced_accuracy_score)\n",
    "f1_scorer = make_scorer(f1_score)"
   ]
  },
  {
   "cell_type": "code",
   "execution_count": 43,
   "metadata": {},
   "outputs": [],
   "source": [
    "best_models = []\n",
    "best_params = []\n",
    "best_scores = []"
   ]
  },
  {
   "cell_type": "code",
   "execution_count": 47,
   "metadata": {},
   "outputs": [],
   "source": [
    "for index in range(len(models)):\n",
    "    for score in [balanced_scorer, f1_scorer]:\n",
    "        model_family = models[index].__class__.__name__\n",
    "        pipe = pipes[index]\n",
    "        search_space = params[index]\n",
    "\n",
    "        cross_valid = RandomizedSearchCV(\n",
    "            estimator = pipe,\n",
    "            param_distributions = search_space,\n",
    "            n_iter = 10,\n",
    "            cv = 3,\n",
    "            scoring = score,\n",
    "            n_jobs = -1,\n",
    "            verbose = -1\n",
    "        )\n",
    "\n",
    "        best_model = cross_valid.fit(X_train.values, y_train[\"Y\"].values)\n",
    "        best_param = cross_valid.best_params_\n",
    "        best_score = cross_valid.best_score_\n",
    "\n",
    "        best_models.append(best_model)\n",
    "        best_params.append(best_param)\n",
    "        best_scores.append(best_score)\n",
    "\n",
    "        print(f\"index={index}, {model_family}: {best_score}, metrics={score._score_func.__name__}\")\n",
    "\n"
   ]
  },
  {
   "cell_type": "raw",
   "metadata": {},
   "source": [
    "index=0, LogisticRegression: 0.8576541819212881, metrics=balanced_accuracy_score\n",
    "index=0, LogisticRegression: 0.6634913586512448, metrics=f1_score\n",
    "index=1, RidgeClassifier: 0.8551787768236521, metrics=balanced_accuracy_score\n",
    "index=1, RidgeClassifier: 0.6566039553765816, metrics=f1_score\n",
    "index=2, SGDClassifier: 0.819403845537981, metrics=balanced_accuracy_score\n",
    "index=2, SGDClassifier: 0.6293802682844429, metrics=f1_score\n",
    "index=3, SVC: 0.8557605589332399, metrics=balanced_accuracy_score\n",
    "index=3, SVC: 0.7249874508385435, metrics=f1_score\n",
    "index=4, RandomForestClassifier: 0.9239377555332476, metrics=balanced_accuracy_score\n",
    "index=4, RandomForestClassifier: 0.8649713312258878, metrics=f1_score\n",
    "index=5, AdaBoostClassifier: 0.9184473996209969, metrics=balanced_accuracy_score\n",
    "index=5, AdaBoostClassifier: 0.8581772803792065, metrics=f1_score\n",
    "index=6, ExtraTreesClassifier: 0.8187313299554996, metrics=balanced_accuracy_score\n",
    "index=6, ExtraTreesClassifier: 0.7098866668314924, metrics=f1_score"
   ]
  },
  {
   "cell_type": "markdown",
   "metadata": {},
   "source": [
    "## Fit the best model"
   ]
  },
  {
   "cell_type": "markdown",
   "metadata": {},
   "source": [
    "- From the training process above, the best model should be RandomForestClassifier, for both balanced_accuracy_score and f1_score.\n",
    "- Here are the parameters of random forest classifier:"
   ]
  },
  {
   "cell_type": "code",
   "execution_count": 48,
   "metadata": {},
   "outputs": [
    {
     "name": "stdout",
     "output_type": "stream",
     "text": [
      "{'randomforestclassifier__n_estimators': 140, 'randomforestclassifier__max_features': 15, 'randomforestclassifier__max_depth': 50}\n"
     ]
    }
   ],
   "source": [
    "print(best_params[8])"
   ]
  },
  {
   "cell_type": "code",
   "execution_count": 49,
   "metadata": {},
   "outputs": [],
   "source": [
    "best_pipe = make_pipeline(   \n",
    "    pre_pipe,\n",
    "    imblearn.over_sampling.SMOTE(k_neighbors=50),\n",
    "    RandomForestClassifier(\n",
    "        n_estimators = 140,\n",
    "        max_features = 15,\n",
    "        max_depth = 50\n",
    "    )\n",
    ")"
   ]
  },
  {
   "cell_type": "code",
   "execution_count": 50,
   "metadata": {},
   "outputs": [
    {
     "data": {
      "text/plain": [
       "Pipeline(steps=[('columntransformer',\n",
       "                 ColumnTransformer(transformers=[('categorical',\n",
       "                                                  Pipeline(steps=[('ohe',\n",
       "                                                                   OneHotEncoder(drop='first'))]),\n",
       "                                                  Customer_Age                False\n",
       "Gender                       True\n",
       "Dependent_count             False\n",
       "Education_Level              True\n",
       "Marital_Status               True\n",
       "Income_Category              True\n",
       "Card_Category                True\n",
       "Months_on_book              False\n",
       "Total_Relationship_Count    False\n",
       "Months_Inactive_12_mon      False\n",
       "Contacts_Count_12...\n",
       "Months_Inactive_12_mon       True\n",
       "Contacts_Count_12_mon        True\n",
       "Credit_Limit                 True\n",
       "Total_Revolving_Bal          True\n",
       "Avg_Open_To_Buy              True\n",
       "Total_Amt_Chng_Q4_Q1         True\n",
       "Total_Trans_Amt              True\n",
       "Total_Trans_Ct               True\n",
       "Total_Ct_Chng_Q4_Q1          True\n",
       "Avg_Utilization_Ratio        True\n",
       "dtype: bool)])),\n",
       "                ('smote', SMOTE(k_neighbors=50)),\n",
       "                ('randomforestclassifier',\n",
       "                 RandomForestClassifier(max_depth=50, max_features=15,\n",
       "                                        n_estimators=140))])"
      ]
     },
     "execution_count": 50,
     "metadata": {},
     "output_type": "execute_result"
    }
   ],
   "source": [
    "best_pipe.fit(X_train.values, y_train[\"Y\"].values)"
   ]
  },
  {
   "cell_type": "code",
   "execution_count": 51,
   "metadata": {},
   "outputs": [],
   "source": [
    "best_pred = best_pipe.predict(X_test.values)"
   ]
  },
  {
   "cell_type": "code",
   "execution_count": 52,
   "metadata": {},
   "outputs": [
    {
     "data": {
      "text/plain": [
       "0.9349649527427305"
      ]
     },
     "execution_count": 52,
     "metadata": {},
     "output_type": "execute_result"
    }
   ],
   "source": [
    "balanced_accuracy_score(y_test[\"Y\"].values, best_pred)"
   ]
  },
  {
   "cell_type": "code",
   "execution_count": 53,
   "metadata": {},
   "outputs": [
    {
     "data": {
      "text/plain": [
       "<sklearn.metrics._plot.confusion_matrix.ConfusionMatrixDisplay at 0x7f89892f9310>"
      ]
     },
     "execution_count": 53,
     "metadata": {},
     "output_type": "execute_result"
    },
    {
     "data": {
      "image/png": "[encoded data removed]",
      "text/plain": [
       "<Figure size 432x288 with 2 Axes>"
      ]
     },
     "metadata": {
      "needs_background": "light"
     },
     "output_type": "display_data"
    }
   ],
   "source": [
    "plot_confusion_matrix(best_pipe, X_test, y_test)  "
   ]
  },
  {
   "cell_type": "code",
   "execution_count": 54,
   "metadata": {},
   "outputs": [
    {
     "data": {
      "text/plain": [
       "<sklearn.metrics._plot.roc_curve.RocCurveDisplay at 0x7f897ad691d0>"
      ]
     },
     "execution_count": 54,
     "metadata": {},
     "output_type": "execute_result"
    },
    {
     "data": {
      "image/png": "[encoded data removed]",
      "text/plain": [
       "<Figure size 432x288 with 1 Axes>"
      ]
     },
     "metadata": {
      "needs_background": "light"
     },
     "output_type": "display_data"
    }
   ],
   "source": [
    "plot_roc_curve(best_pipe, X_test, y_test)  "
   ]
  },
  {
   "cell_type": "code",
   "execution_count": 55,
   "metadata": {},
   "outputs": [
    {
     "data": {
      "text/plain": [
       "0.8672566371681416"
      ]
     },
     "execution_count": 55,
     "metadata": {},
     "output_type": "execute_result"
    }
   ],
   "source": [
    "f1_score(y_test[\"Y\"].values, best_pred)"
   ]
  },
  {
   "cell_type": "code",
   "execution_count": 61,
   "metadata": {},
   "outputs": [
    {
     "data": {
      "text/plain": [
       "0.8328611898016998"
      ]
     },
     "execution_count": 61,
     "metadata": {},
     "output_type": "execute_result"
    }
   ],
   "source": [
    "precision_score(y_test[\"Y\"].values, best_pred)"
   ]
  },
  {
   "cell_type": "code",
   "execution_count": 62,
   "metadata": {},
   "outputs": [
    {
     "data": {
      "text/plain": [
       "0.9046153846153846"
      ]
     },
     "execution_count": 62,
     "metadata": {},
     "output_type": "execute_result"
    }
   ],
   "source": [
    "recall_score(y_test[\"Y\"].values, best_pred)"
   ]
  },
  {
   "cell_type": "markdown",
   "metadata": {},
   "source": [
    "## Conclusion"
   ]
  },
  {
   "cell_type": "markdown",
   "metadata": {},
   "source": [
    "### Best final model"
   ]
  },
  {
   "cell_type": "code",
   "execution_count": 58,
   "metadata": {},
   "outputs": [
    {
     "data": {
      "text/plain": [
       "RandomForestClassifier(max_depth=50, max_features=15, n_estimators=140)"
      ]
     },
     "execution_count": 58,
     "metadata": {},
     "output_type": "execute_result"
    }
   ],
   "source": [
    "RandomForestClassifier(\n",
    "        n_estimators = 140,\n",
    "        max_features = 15,\n",
    "        max_depth = 50\n",
    ")"
   ]
  },
  {
   "cell_type": "markdown",
   "metadata": {},
   "source": [
    "- max_depth=50\n",
    "- max_features=15\n",
    "- n_estimators=140"
   ]
  },
  {
   "cell_type": "markdown",
   "metadata": {},
   "source": [
    "### Best pipe"
   ]
  },
  {
   "cell_type": "code",
   "execution_count": 59,
   "metadata": {},
   "outputs": [
    {
     "data": {
      "text/plain": [
       "Pipeline(steps=[('columntransformer',\n",
       "                 ColumnTransformer(transformers=[('categorical',\n",
       "                                                  Pipeline(steps=[('ohe',\n",
       "                                                                   OneHotEncoder(drop='first'))]),\n",
       "                                                  Customer_Age                False\n",
       "Gender                       True\n",
       "Dependent_count             False\n",
       "Education_Level              True\n",
       "Marital_Status               True\n",
       "Income_Category              True\n",
       "Card_Category                True\n",
       "Months_on_book              False\n",
       "Total_Relationship_Count    False\n",
       "Months_Inactive_12_mon      False\n",
       "Contacts_Count_12...\n",
       "Months_Inactive_12_mon       True\n",
       "Contacts_Count_12_mon        True\n",
       "Credit_Limit                 True\n",
       "Total_Revolving_Bal          True\n",
       "Avg_Open_To_Buy              True\n",
       "Total_Amt_Chng_Q4_Q1         True\n",
       "Total_Trans_Amt              True\n",
       "Total_Trans_Ct               True\n",
       "Total_Ct_Chng_Q4_Q1          True\n",
       "Avg_Utilization_Ratio        True\n",
       "dtype: bool)])),\n",
       "                ('smote', SMOTE(k_neighbors=50)),\n",
       "                ('randomforestclassifier',\n",
       "                 RandomForestClassifier(max_depth=50, max_features=15,\n",
       "                                        n_estimators=140))])"
      ]
     },
     "execution_count": 59,
     "metadata": {},
     "output_type": "execute_result"
    }
   ],
   "source": [
    "best_pipe"
   ]
  },
  {
   "cell_type": "markdown",
   "metadata": {},
   "source": [
    "### Metrics of best model"
   ]
  },
  {
   "cell_type": "raw",
   "metadata": {},
   "source": [
    "precision = 0.8328611898016998\n",
    "recall = 0.9046153846153846\n",
    "f1 = 0.8672566371681416\n",
    "balanced_accuracy = 0.9349649527427305"
   ]
  },
  {
   "cell_type": "markdown",
   "metadata": {},
   "source": [
    "### Why Random Forest?"
   ]
  },
  {
   "cell_type": "markdown",
   "metadata": {},
   "source": [
    "Random Forest is a collection of Decision Trees. Each tree sees a subset of data and a subset of features. Since we use SMOTE to synthesize minority data, it does not affect the partition of data of each trees. That is why Support Vector Machine also works well."
   ]
  },
  {
   "cell_type": "markdown",
   "metadata": {},
   "source": [
    "### Summary"
   ]
  },
  {
   "cell_type": "markdown",
   "metadata": {},
   "source": [
    "In this project, we build a model to predict which customer is possibly going to churn. The dataset is highly unbalanced so after one hot coding categorical variables and transforming numerical variables to normal distribution, we use SMOTE to synthesis more minority data. After trying different models with corresponding hyperparameters, the winner is DecisionTreeModel. This final model has very good recall score, meaning, it could identify the churners effectively. This is significantly important to our business problem. Because if we could identify the possible churners, we could make special plans to prevent them from churning, thus reducing the loss of customers of the business owner."
   ]
  },
  {
   "cell_type": "markdown",
   "metadata": {},
   "source": [
    "### Future"
   ]
  },
  {
   "cell_type": "markdown",
   "metadata": {},
   "source": [
    "- We could further imporve the recall score.\n",
    "- Explore feature importance to identify which variable affects the possible churning most."
   ]
  }
 ],
 "metadata": {
  "kernelspec": {
   "display_name": "Python 3",
   "language": "python",
   "name": "python3"
  },
  "language_info": {
   "codemirror_mode": {
    "name": "ipython",
    "version": 3
   },
   "file_extension": ".py",
   "mimetype": "text/x-python",
   "name": "python",
   "nbconvert_exporter": "python",
   "pygments_lexer": "ipython3",
   "version": "3.7.6"
  },
  "toc": {
   "base_numbering": 1,
   "nav_menu": {},
   "number_sections": false,
   "sideBar": false,
   "skip_h1_title": false,
   "title_cell": "Table of Contents",
   "title_sidebar": "Contents",
   "toc_cell": true,
   "toc_position": {},
   "toc_section_display": true,
   "toc_window_display": false
  }
 },
 "nbformat": 4,
 "nbformat_minor": 2
}
